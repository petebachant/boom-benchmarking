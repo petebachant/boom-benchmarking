{
 "cells": [
  {
   "cell_type": "markdown",
   "id": "0",
   "metadata": {},
   "source": [
    "# Inspecting what an alert looks like"
   ]
  },
  {
   "cell_type": "code",
   "execution_count": null,
   "id": "1",
   "metadata": {},
   "outputs": [],
   "source": [
    "# Run from the top of the repo\n",
    "%cd .."
   ]
  },
  {
   "cell_type": "code",
   "execution_count": null,
   "id": "2",
   "metadata": {},
   "outputs": [],
   "source": [
    "import glob\n",
    "from pprint import pprint\n",
    "\n",
    "from fastavro import reader\n",
    "\n",
    "alert = glob.glob(\"data/ztf_public_20250614/*.avro\")[0]\n",
    "\n",
    "with open(alert, \"rb\") as f:\n",
    "    avro_reader = reader(f)\n",
    "    for record in avro_reader:\n",
    "        print(type(record))\n",
    "        # Pretty-print the dictionary\n",
    "        pprint(record)"
   ]
  },
  {
   "cell_type": "code",
   "execution_count": null,
   "id": "3",
   "metadata": {},
   "outputs": [],
   "source": [
    "for k, v in record.items():\n",
    "    print(f\"{k}: {v}\")"
   ]
  },
  {
   "cell_type": "markdown",
   "id": "4",
   "metadata": {},
   "source": [
    "So, from above, we want to put `objectId`, `candidate`, and `coordinates`\n",
    "into the database (what BOOM does).\n",
    "\n",
    "`coordinates` is a GeoJSON object in MongoDB used for indexing with `l`\n",
    "and `b` attributes."
   ]
  },
  {
   "cell_type": "code",
   "execution_count": null,
   "id": "5",
   "metadata": {},
   "outputs": [],
   "source": [
    "# Check out the NED alerts\n",
    "\n",
    "! head -n 79 data/kowalski.NED.json"
   ]
  }
 ],
 "metadata": {
  "kernelspec": {
   "display_name": ".venv",
   "language": "python",
   "name": "python3"
  },
  "language_info": {
   "codemirror_mode": {
    "name": "ipython",
    "version": 3
   },
   "file_extension": ".py",
   "mimetype": "text/x-python",
   "name": "python",
   "nbconvert_exporter": "python",
   "pygments_lexer": "ipython3",
   "version": "3.12.4"
  }
 },
 "nbformat": 4,
 "nbformat_minor": 5
}
