{
 "cells": [
  {
   "cell_type": "markdown",
   "id": "0",
   "metadata": {
    "vscode": {
     "languageId": "plaintext"
    }
   },
   "source": [
    "# Benchmarking MongoDB\n",
    "\n",
    "In this notebook we run some benchmarks with MongoDB."
   ]
  },
  {
   "cell_type": "code",
   "execution_count": null,
   "id": "1",
   "metadata": {},
   "outputs": [],
   "source": [
    "# Run from the top of the repo\n",
    "%cd .."
   ]
  },
  {
   "cell_type": "code",
   "execution_count": null,
   "id": "2",
   "metadata": {},
   "outputs": [],
   "source": [
    "results = {}"
   ]
  },
  {
   "cell_type": "code",
   "execution_count": null,
   "id": "3",
   "metadata": {},
   "outputs": [],
   "source": [
    "# Ensure MongoDB is running\n",
    "! docker compose -f docker-compose.mongo.yaml up -d"
   ]
  },
  {
   "cell_type": "code",
   "execution_count": null,
   "id": "4",
   "metadata": {},
   "outputs": [],
   "source": [
    "# Ensure the database is empty\n",
    "import pymongo\n",
    "\n",
    "client = pymongo.MongoClient(port=27018)\n",
    "client.drop_database(\"boom-benchmarking\")"
   ]
  },
  {
   "cell_type": "code",
   "execution_count": null,
   "id": "5",
   "metadata": {},
   "outputs": [],
   "source": [
    "# Create collections and indexes\n",
    "database = client.get_database(\"boom-benchmarking\")\n",
    "ztf_collection = database.get_collection(\"ztf_alerts\")\n",
    "ned_collection = database.get_collection(\"ned_alerts\")"
   ]
  },
  {
   "cell_type": "code",
   "execution_count": null,
   "id": "6",
   "metadata": {},
   "outputs": [],
   "source": [
    "%load_ext calkit.magics"
   ]
  },
  {
   "cell_type": "code",
   "execution_count": null,
   "id": "7",
   "metadata": {},
   "outputs": [],
   "source": [
    "%%stage --name ztf-avro-to-mongo-docs \\\n",
    "    --dep-path \"data/ztf_public_20250614\" \\\n",
    "    --environment py \\\n",
    "    --verbose \\\n",
    "    --out-storage none \\\n",
    "    --out documents\n",
    "\n",
    "# Load ZTF alerts into the database\n",
    "import glob\n",
    "import fastavro\n",
    "from tqdm.auto import tqdm\n",
    "\n",
    "\n",
    "def ra_to_longitude(ra):\n",
    "    \"\"\"Convert RA (0-360) to longitude (-180 to 180).\"\"\"\n",
    "    if ra > 180:\n",
    "        return ra - 360\n",
    "    else:\n",
    "        return ra\n",
    "\n",
    "\n",
    "ztf_avro_fpaths = glob.glob(\"data/ztf_public_20250614/*.avro\")\n",
    "\n",
    "print(f\"Found {len(ztf_avro_fpaths)} ZTF alerts\")\n",
    "\n",
    "print(\"Converting to documents\")\n",
    "documents = []\n",
    "for alert_avro_fpath in tqdm(ztf_avro_fpaths):\n",
    "    with open(alert_avro_fpath, \"rb\") as f:\n",
    "        reader = fastavro.reader(f)\n",
    "        for alert in reader:\n",
    "            alert_fmt = {\n",
    "                \"object_id\": alert[\"objectId\"],\n",
    "                \"cand_id\": alert[\"candid\"],\n",
    "                \"candidate\": alert[\"candidate\"],\n",
    "                # Coordinates are a GeoJSON object\n",
    "                \"coordinates\": {\n",
    "                    \"type\": \"Point\",\n",
    "                    \"coordinates\": [\n",
    "                        ra_to_longitude(alert[\"candidate\"][\"ra\"]),\n",
    "                        alert[\"candidate\"][\"dec\"],\n",
    "                    ],\n",
    "                },\n",
    "            }\n",
    "            documents.append(alert_fmt)\n",
    "# This line intentionally left blank"
   ]
  },
  {
   "cell_type": "code",
   "execution_count": null,
   "id": "8",
   "metadata": {},
   "outputs": [],
   "source": [
    "len(documents)"
   ]
  },
  {
   "cell_type": "code",
   "execution_count": null,
   "id": "9",
   "metadata": {},
   "outputs": [],
   "source": [
    "# Create geospatial index on coordinates\n",
    "try:\n",
    "    ztf_collection.drop_index(\"coordinates_geospatial_index\")\n",
    "except Exception:\n",
    "    pass\n",
    "ztf_collection.create_index(\n",
    "    [(\"coordinates\", pymongo.GEOSPHERE)],\n",
    "    name=\"coordinates_geospatial_index\",\n",
    "    unique=False,\n",
    ")"
   ]
  },
  {
   "cell_type": "markdown",
   "id": "10",
   "metadata": {},
   "source": [
    "## Insert ZTF alerts"
   ]
  },
  {
   "cell_type": "code",
   "execution_count": null,
   "id": "11",
   "metadata": {},
   "outputs": [],
   "source": [
    "import time\n",
    "from tqdm.auto import tqdm\n",
    "from copy import deepcopy\n",
    "\n",
    "# Insert all the alerts into the database\n",
    "print(\"Inserting ZTF alerts into the database\")\n",
    "\n",
    "n_iterations = 5 # TODO: This should be a project parameter?\n",
    "n_inserted = []\n",
    "insert_times = []\n",
    "\n",
    "for _ in tqdm(range(n_iterations)):\n",
    "    t0 = time.time()\n",
    "    ztf_collection.insert_many(deepcopy(documents))\n",
    "    t1 = time.time()\n",
    "    n_inserted.append(len(documents))\n",
    "    insert_times.append(t1 - t0)\n",
    "\n",
    "results[\"n_ztf_alerts_inserted\"] = n_inserted\n",
    "results[\"ztf_alerts_insert_time_s\"] = insert_times"
   ]
  },
  {
   "cell_type": "code",
   "execution_count": null,
   "id": "12",
   "metadata": {},
   "outputs": [],
   "source": [
    "results"
   ]
  },
  {
   "cell_type": "code",
   "execution_count": null,
   "id": "13",
   "metadata": {},
   "outputs": [],
   "source": [
    "# Load NED alerts into the database"
   ]
  },
  {
   "cell_type": "code",
   "execution_count": null,
   "id": "14",
   "metadata": {},
   "outputs": [],
   "source": [
    "# Run cross-matching"
   ]
  },
  {
   "cell_type": "markdown",
   "id": "15",
   "metadata": {},
   "source": [
    "## Run a cone search query"
   ]
  },
  {
   "cell_type": "code",
   "execution_count": null,
   "id": "16",
   "metadata": {},
   "outputs": [],
   "source": [
    "import math\n",
    "import time\n",
    "\n",
    "t0 = time.time()\n",
    "\n",
    "# Run through some filters\n",
    "ra_center = 180.0\n",
    "dec_center = 0.0\n",
    "radius_arcmin = 60.0\n",
    "radius_radians = radius_arcmin * (math.pi / 180.0) / 60.0\n",
    "\n",
    "cursor = ztf_collection.find(\n",
    "    {\n",
    "        \"coordinates\": {\n",
    "            \"$geoWithin\": {\n",
    "                \"$centerSphere\": [[ra_center, dec_center], radius_radians]\n",
    "            }\n",
    "        }\n",
    "    }\n",
    ").limit(20)\n",
    "\n",
    "res = list(cursor)\n",
    "t1 = time.time()\n",
    "results[\"cone_search_query_time_s\"] = t1 - t0\n",
    "print(len(res), t1 - t0, \"seconds\")\n",
    "res[0][\"object_id\"]"
   ]
  },
  {
   "cell_type": "code",
   "execution_count": null,
   "id": "17",
   "metadata": {},
   "outputs": [],
   "source": [
    "# Shut down Docker containers\n",
    "! docker compose -f docker-compose.mongo.yaml down"
   ]
  },
  {
   "cell_type": "code",
   "execution_count": null,
   "id": "18",
   "metadata": {},
   "outputs": [],
   "source": [
    "# Write results out to file\n",
    "import os\n",
    "import json\n",
    "\n",
    "os.makedirs(\"results\", exist_ok=True)\n",
    "\n",
    "with open(\"results/mongo.json\", \"w\") as f:\n",
    "    json.dump(results, f, indent=4)"
   ]
  }
 ],
 "metadata": {
  "kernelspec": {
   "display_name": ".venv",
   "language": "python",
   "name": "python3"
  },
  "language_info": {
   "codemirror_mode": {
    "name": "ipython",
    "version": 3
   },
   "file_extension": ".py",
   "mimetype": "text/x-python",
   "name": "python",
   "nbconvert_exporter": "python",
   "pygments_lexer": "ipython3",
   "version": "3.12.4"
  }
 },
 "nbformat": 4,
 "nbformat_minor": 5
}
