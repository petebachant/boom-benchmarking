{
 "cells": [
  {
   "cell_type": "markdown",
   "id": "0",
   "metadata": {
    "vscode": {
     "languageId": "plaintext"
    }
   },
   "source": [
    "# Benchmarking MongoDB\n",
    "\n",
    "In this notebook we run some benchmarks with MongoDB."
   ]
  },
  {
   "cell_type": "code",
   "execution_count": null,
   "id": "1",
   "metadata": {},
   "outputs": [],
   "source": [
    "results = {}"
   ]
  },
  {
   "cell_type": "code",
   "execution_count": null,
   "id": "2",
   "metadata": {},
   "outputs": [],
   "source": [
    "# Ensure MongoDB is running\n",
    "! cd .. && docker compose up -d"
   ]
  },
  {
   "cell_type": "code",
   "execution_count": null,
   "id": "3",
   "metadata": {},
   "outputs": [],
   "source": [
    "# Ensure the database is empty\n",
    "import pymongo\n",
    "\n",
    "client = pymongo.MongoClient()\n",
    "client.drop_database(\"boom\")"
   ]
  },
  {
   "cell_type": "code",
   "execution_count": null,
   "id": "4",
   "metadata": {},
   "outputs": [],
   "source": [
    "# Create collections and indexes\n",
    "database = client.get_database(\"boom\")\n",
    "ztf_collection = database.get_collection(\"ztf_alerts\")\n",
    "ned_collection = database.get_collection(\"ned_alerts\")"
   ]
  },
  {
   "cell_type": "code",
   "execution_count": null,
   "id": "5",
   "metadata": {},
   "outputs": [],
   "source": [
    "# Load ZTF alerts into the database\n",
    "import glob\n",
    "import fastavro\n",
    "from tqdm.auto import tqdm\n",
    "\n",
    "ztf_avro_fpaths = glob.glob(\"../data/ztf_public_20250614/*.avro\")\n",
    "\n",
    "print(f\"Found {len(ztf_avro_fpaths)} ZTF alerts\")\n",
    "\n",
    "print(\"Converting to documents\")\n",
    "documents = []\n",
    "for alert_avro_fpath in tqdm(ztf_avro_fpaths):\n",
    "    with open(alert_avro_fpath, \"rb\") as f:\n",
    "        reader = fastavro.reader(f)\n",
    "        for alert in reader:\n",
    "            alert_fmt = {\n",
    "                \"object_id\": alert[\"objectId\"],\n",
    "                \"cand_id\": alert[\"candid\"],\n",
    "                \"candidate\": alert[\"candidate\"],\n",
    "                # Coordinates are a GeoJSON object\n",
    "                \"coordinates\": {\n",
    "                    \"type\": \"Point\",\n",
    "                    \"coordinates\": [\n",
    "                        alert[\"candidate\"][\"ra\"],\n",
    "                        alert[\"candidate\"][\"dec\"],\n",
    "                    ],\n",
    "                },\n",
    "            }\n",
    "            documents.append(alert_fmt)"
   ]
  },
  {
   "cell_type": "code",
   "execution_count": null,
   "id": "6",
   "metadata": {},
   "outputs": [],
   "source": [
    "# Insert all the alerts into the database\n",
    "print(\"Inserting ZTF alerts into the database\")\n",
    "\n",
    "import time\n",
    "\n",
    "t0 = time.time()\n",
    "ztf_collection.insert_many(documents)\n",
    "\n",
    "t1 = time.time()\n",
    "\n",
    "results[\"ztf_alerts_insert_time_s\"] = t1 - t0"
   ]
  },
  {
   "cell_type": "code",
   "execution_count": null,
   "id": "7",
   "metadata": {},
   "outputs": [],
   "source": [
    "# Load NED alerts into the database"
   ]
  },
  {
   "cell_type": "code",
   "execution_count": null,
   "id": "8",
   "metadata": {},
   "outputs": [],
   "source": [
    "# Run cross-matching"
   ]
  },
  {
   "cell_type": "code",
   "execution_count": null,
   "id": "9",
   "metadata": {},
   "outputs": [],
   "source": [
    "# Run through some filters"
   ]
  },
  {
   "cell_type": "code",
   "execution_count": null,
   "id": "10",
   "metadata": {},
   "outputs": [],
   "source": [
    "# Shut down Docker containers\n",
    "! cd .. && docker compose down"
   ]
  }
 ],
 "metadata": {
  "kernelspec": {
   "display_name": ".venv",
   "language": "python",
   "name": "python3"
  },
  "language_info": {
   "codemirror_mode": {
    "name": "ipython",
    "version": 3
   },
   "file_extension": ".py",
   "mimetype": "text/x-python",
   "name": "python",
   "nbconvert_exporter": "python",
   "pygments_lexer": "ipython3",
   "version": "3.12.4"
  }
 },
 "nbformat": 4,
 "nbformat_minor": 5
}
