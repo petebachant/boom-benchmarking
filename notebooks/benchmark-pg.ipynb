{
 "cells": [
  {
   "cell_type": "markdown",
   "id": "0",
   "metadata": {},
   "source": [
    "# Benchmark Postgres with Q3C extension"
   ]
  },
  {
   "cell_type": "code",
   "execution_count": null,
   "id": "1",
   "metadata": {},
   "outputs": [],
   "source": [
    "# First make sure our services are running\n",
    "! docker compose up -d"
   ]
  },
  {
   "cell_type": "code",
   "execution_count": null,
   "id": "2",
   "metadata": {},
   "outputs": [],
   "source": [
    "import psycopg2\n",
    "\n",
    "# Now drop the database if it exists and create a table for our\n",
    "# alerts\n",
    "sql_drop = \"DROP DATABASE IF EXISTS boom;\"\n",
    "sql_create = \"CREATE DATABASE boom;\"\n",
    "\n",
    "# Connect to the PostgreSQL database and execute the SQL commands\n",
    "conn = psycopg2.connect(\n",
    "    host=\"localhost\", port=5432, user=\"postgres\", password=\"postgres\"\n",
    ")\n",
    "conn.autocommit = True  # Enable autocommit mode\n",
    "cursor = conn.cursor()\n",
    "cursor.execute(sql_drop)\n",
    "cursor.execute(sql_create)\n",
    "print(\"Database created successfully\")"
   ]
  },
  {
   "cell_type": "code",
   "execution_count": null,
   "id": "3",
   "metadata": {},
   "outputs": [],
   "source": [
    "# Check that q3c is installed\n",
    "conn = psycopg2.connect(\n",
    "    host=\"localhost\",\n",
    "    port=5432,\n",
    "    user=\"postgres\",\n",
    "    password=\"postgres\",\n",
    "    database=\"boom\",\n",
    ")\n",
    "# Get the q3c version\n",
    "cursor = conn.cursor()\n",
    "res = cursor.execute(\n",
    "    \"\"\"\n",
    "        CREATE EXTENSION IF NOT EXISTS q3c;\n",
    "        SELECT q3c_version()\n",
    "    \"\"\"\n",
    ")\n",
    "cursor.fetchall()"
   ]
  },
  {
   "cell_type": "code",
   "execution_count": null,
   "id": "4",
   "metadata": {},
   "outputs": [],
   "source": [
    "import psycopg2\n",
    "\n",
    "# Now drop the database if it exists and create a table for our\n",
    "# alerts\n",
    "sql = \"\"\"\n",
    "-- Enable the q3c extension for spatial indexing\n",
    "CREATE EXTENSION IF NOT EXISTS q3c;\n",
    "\n",
    "CREATE TABLE IF NOT EXISTS alert (\n",
    "    id SERIAL PRIMARY KEY,\n",
    "    survey_id INT NOT NULL,\n",
    "    object_id VARCHAR(255) NOT NULL,\n",
    "    cand_id VARCHAR(255) NOT NULL,\n",
    "    candidate JSONB NOT NULL,\n",
    "    ra DOUBLE PRECISION NOT NULL,\n",
    "    dec DOUBLE PRECISION NOT NULL,\n",
    "    created_at TIMESTAMP DEFAULT CURRENT_TIMESTAMP\n",
    ");\n",
    "\n",
    "-- Create a Q3C index on the ra and dec columns for faster querying\n",
    "CREATE INDEX idx_objects_q3c ON alert (q3c_ang2ipix(ra, dec));\n",
    "\"\"\"\n",
    "\n",
    "# Connect to the PostgreSQL database and execute the SQL commands\n",
    "conn = psycopg2.connect(\n",
    "    host=\"localhost\",\n",
    "    port=5432,\n",
    "    user=\"postgres\",\n",
    "    password=\"postgres\",\n",
    "    database=\"boom\",\n",
    ")\n",
    "\n",
    "with conn.cursor() as cursor:\n",
    "    cursor.execute(sql)\n",
    "    conn.commit()\n",
    "    print(\"Table created successfully.\")"
   ]
  },
  {
   "cell_type": "code",
   "execution_count": null,
   "id": "5",
   "metadata": {},
   "outputs": [],
   "source": [
    "# Insert all the ZTF alerts"
   ]
  }
 ],
 "metadata": {
  "kernelspec": {
   "display_name": ".venv",
   "language": "python",
   "name": "python3"
  },
  "language_info": {
   "codemirror_mode": {
    "name": "ipython",
    "version": 3
   },
   "file_extension": ".py",
   "mimetype": "text/x-python",
   "name": "python",
   "nbconvert_exporter": "python",
   "pygments_lexer": "ipython3",
   "version": "3.12.4"
  }
 },
 "nbformat": 4,
 "nbformat_minor": 5
}
