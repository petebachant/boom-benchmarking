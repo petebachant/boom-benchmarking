{
 "cells": [
  {
   "cell_type": "markdown",
   "id": "0",
   "metadata": {},
   "source": [
    "# Benchmark Postgres with Q3C extension"
   ]
  },
  {
   "cell_type": "code",
   "execution_count": null,
   "id": "1",
   "metadata": {},
   "outputs": [],
   "source": [
    "# First make sure our services are running\n",
    "! docker compose up -d"
   ]
  },
  {
   "cell_type": "code",
   "execution_count": null,
   "id": "2",
   "metadata": {},
   "outputs": [],
   "source": [
    "# Now drop the database if it exists and create a table for our\n",
    "# alerts\n",
    "sql = \"\"\"\n",
    "DROP DATABASE IF EXISTS boom;\n",
    "CREATE DATABASE boom;\n",
    "USE boom;\n",
    "CREATE TABLE IF NOT EXISTS alerts (\n",
    "    id SERIAL PRIMARY KEY,\n",
    "    object_id VARCHAR(255) NOT NULL,\n",
    "    cand_id VARCHAR(255) NOT NULL,\n",
    "    candidate JSONB NOT NULL,\n",
    "    ra DOUBLE PRECISION NOT NULL,\n",
    "    dec DOUBLE PRECISION NOT NULL,\n",
    "    created_at TIMESTAMP DEFAULT CURRENT_TIMESTAMP\n",
    ");\n",
    "\n",
    "-- Create a Q3C index on the ra and dec columns for faster querying\n",
    "CREATE INDEX idx_objects_q3c ON alerts (q3c_ang2ipix(ra, dec));\n",
    "\"\"\""
   ]
  },
  {
   "cell_type": "code",
   "execution_count": null,
   "id": "3",
   "metadata": {},
   "outputs": [],
   "source": [
    "# Insert all the ZTF alerts"
   ]
  }
 ],
 "metadata": {
  "language_info": {
   "name": "python"
  }
 },
 "nbformat": 4,
 "nbformat_minor": 5
}
