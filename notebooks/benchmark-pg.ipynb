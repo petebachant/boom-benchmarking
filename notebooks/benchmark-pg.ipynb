{
 "cells": [
  {
   "cell_type": "markdown",
   "id": "0",
   "metadata": {},
   "source": [
    "# Benchmark Postgres with Q3C extension"
   ]
  },
  {
   "cell_type": "code",
   "execution_count": null,
   "id": "1",
   "metadata": {},
   "outputs": [],
   "source": [
    "# Move to the top of the repo\n",
    "%cd .."
   ]
  },
  {
   "cell_type": "code",
   "execution_count": null,
   "id": "2",
   "metadata": {},
   "outputs": [],
   "source": [
    "results = {}"
   ]
  },
  {
   "cell_type": "code",
   "execution_count": null,
   "id": "3",
   "metadata": {},
   "outputs": [],
   "source": [
    "# First make sure our services are running\n",
    "! docker compose -f docker-compose.postgres.yaml up -d\n",
    "\n",
    "import time\n",
    "\n",
    "time.sleep(3)  # Wait for services to start"
   ]
  },
  {
   "cell_type": "code",
   "execution_count": null,
   "id": "4",
   "metadata": {},
   "outputs": [],
   "source": [
    "PORT = 5435\n",
    "DB_NAME = \"boom_benchmarking\""
   ]
  },
  {
   "cell_type": "code",
   "execution_count": null,
   "id": "5",
   "metadata": {},
   "outputs": [],
   "source": [
    "import psycopg2\n",
    "\n",
    "# Now drop the database if it exists and create a table for our\n",
    "# alerts\n",
    "sql_drop = f\"DROP DATABASE IF EXISTS {DB_NAME};\"\n",
    "sql_create = f\"CREATE DATABASE {DB_NAME};\"\n",
    "\n",
    "# Connect to the PostgreSQL database and execute the SQL commands\n",
    "conn = psycopg2.connect(\n",
    "    host=\"localhost\", port=PORT, user=\"postgres\", password=\"postgres\"\n",
    ")\n",
    "conn.autocommit = True  # Enable autocommit mode\n",
    "cursor = conn.cursor()\n",
    "cursor.execute(sql_drop)\n",
    "cursor.execute(sql_create)\n",
    "print(\"Database created successfully\")"
   ]
  },
  {
   "cell_type": "code",
   "execution_count": null,
   "id": "6",
   "metadata": {},
   "outputs": [],
   "source": [
    "# Check that q3c is installed\n",
    "conn = psycopg2.connect(\n",
    "    host=\"localhost\",\n",
    "    port=PORT,\n",
    "    user=\"postgres\",\n",
    "    password=\"postgres\",\n",
    "    database=DB_NAME,\n",
    ")\n",
    "# Get the q3c version\n",
    "cursor = conn.cursor()\n",
    "res = cursor.execute(\n",
    "    \"\"\"\n",
    "        CREATE EXTENSION IF NOT EXISTS q3c;\n",
    "        SELECT q3c_version()\n",
    "    \"\"\"\n",
    ")\n",
    "cursor.fetchall()"
   ]
  },
  {
   "cell_type": "code",
   "execution_count": null,
   "id": "7",
   "metadata": {},
   "outputs": [],
   "source": [
    "import psycopg2\n",
    "\n",
    "# Now drop the database if it exists and create a table for our\n",
    "# alerts\n",
    "sql = \"\"\"\n",
    "-- Enable the q3c extension for spatial indexing\n",
    "CREATE EXTENSION IF NOT EXISTS q3c;\n",
    "\n",
    "CREATE TABLE IF NOT EXISTS alert (\n",
    "    id SERIAL PRIMARY KEY,\n",
    "    survey_id INT NOT NULL,\n",
    "    object_id VARCHAR(255) NOT NULL,\n",
    "    cand_id VARCHAR(255) NOT NULL,\n",
    "    candidate JSONB NOT NULL,\n",
    "    ra DOUBLE PRECISION NOT NULL,\n",
    "    dec DOUBLE PRECISION NOT NULL,\n",
    "    created_at TIMESTAMP DEFAULT CURRENT_TIMESTAMP\n",
    ");\n",
    "\n",
    "-- Create a Q3C index on the ra and dec columns for faster querying\n",
    "CREATE INDEX idx_objects_q3c ON alert (q3c_ang2ipix(ra, dec));\n",
    "\"\"\"\n",
    "\n",
    "# Connect to the PostgreSQL database and execute the SQL commands\n",
    "conn = psycopg2.connect(\n",
    "    host=\"localhost\",\n",
    "    port=PORT,\n",
    "    user=\"postgres\",\n",
    "    password=\"postgres\",\n",
    "    database=DB_NAME,\n",
    ")\n",
    "\n",
    "with conn.cursor() as cursor:\n",
    "    cursor.execute(sql)\n",
    "    conn.commit()\n",
    "    print(\"Table created successfully.\")"
   ]
  },
  {
   "cell_type": "code",
   "execution_count": null,
   "id": "8",
   "metadata": {},
   "outputs": [],
   "source": [
    "%load_ext calkit.magics"
   ]
  },
  {
   "cell_type": "code",
   "execution_count": null,
   "id": "9",
   "metadata": {},
   "outputs": [],
   "source": [
    "%%stage --name ztf-avro-to-pg-rows \\\n",
    "    --dep-path \"data/ztf_public_20250614\" \\\n",
    "    --environment py \\\n",
    "    --verbose \\\n",
    "    --out-storage none \\\n",
    "    --out rows\n",
    "\n",
    "# Insert all the ZTF alerts\n",
    "import glob\n",
    "import fastavro\n",
    "from tqdm.auto import tqdm\n",
    "\n",
    "ztf_avro_fpaths = glob.glob(\"data/ztf_public_20250614/*.avro\")\n",
    "\n",
    "print(f\"Found {len(ztf_avro_fpaths)} ZTF alerts\")\n",
    "\n",
    "print(\"Converting to rows for insertion into PostgreSQL\")\n",
    "rows = []\n",
    "for alert_avro_fpath in tqdm(ztf_avro_fpaths):\n",
    "    with open(alert_avro_fpath, \"rb\") as f:\n",
    "        reader = fastavro.reader(f)\n",
    "        for alert in reader:\n",
    "            alert_fmt = {\n",
    "                \"object_id\": alert[\"objectId\"],\n",
    "                \"survey_id\": 0,\n",
    "                \"cand_id\": alert[\"candid\"],\n",
    "                \"candidate\": alert[\"candidate\"],\n",
    "                \"ra\": alert[\"candidate\"][\"ra\"],\n",
    "                \"dec\": alert[\"candidate\"][\"dec\"],\n",
    "            }\n",
    "            rows.append(alert_fmt)\n",
    "# This line left blank so we don't try to print the line above"
   ]
  },
  {
   "cell_type": "code",
   "execution_count": null,
   "id": "10",
   "metadata": {},
   "outputs": [],
   "source": [
    "print(len(rows))"
   ]
  },
  {
   "cell_type": "markdown",
   "id": "11",
   "metadata": {},
   "source": [
    "## Insert ZTF alerts"
   ]
  },
  {
   "cell_type": "code",
   "execution_count": null,
   "id": "12",
   "metadata": {},
   "outputs": [],
   "source": [
    "# Convert rows in to tuples for insertion\n",
    "from psycopg2.extras import Json\n",
    "\n",
    "rows_tuples = [\n",
    "    (\n",
    "        row[\"survey_id\"],\n",
    "        row[\"object_id\"],\n",
    "        row[\"cand_id\"],\n",
    "        Json(row[\"candidate\"]),\n",
    "        row[\"ra\"],\n",
    "        row[\"dec\"],\n",
    "    )\n",
    "    for row in rows\n",
    "]"
   ]
  },
  {
   "cell_type": "code",
   "execution_count": null,
   "id": "13",
   "metadata": {},
   "outputs": [],
   "source": [
    "import time\n",
    "\n",
    "from psycopg2.extras import execute_values\n",
    "from tqdm.auto import tqdm\n",
    "\n",
    "# Insert all rows into the PostgreSQL database\n",
    "insert_sql = \"\"\"\n",
    "INSERT INTO alert (survey_id, object_id, cand_id, candidate, ra, dec)\n",
    "VALUES %s;\n",
    "\"\"\"\n",
    "\n",
    "n_iterations = 5  # TODO: Should be a project parameter?\n",
    "n_inserted = []\n",
    "insert_times = []\n",
    "\n",
    "with conn.cursor() as cursor:\n",
    "    for _ in tqdm(range(n_iterations)):\n",
    "        t0 = time.time()\n",
    "        execute_values(\n",
    "            cursor, insert_sql, rows_tuples, page_size=1000\n",
    "        )  # Use page_size for batch insertion\n",
    "        conn.commit()\n",
    "        t1 = time.time()\n",
    "        n_inserted.append(len(rows_tuples))\n",
    "        insert_times.append(t1 - t0)\n",
    "\n",
    "results[\"n_ztf_alerts_inserted\"] = n_inserted\n",
    "results[\"ztf_alerts_insert_time_s\"] = insert_times\n",
    "results"
   ]
  },
  {
   "cell_type": "markdown",
   "id": "14",
   "metadata": {},
   "source": [
    "## Run a cone search query"
   ]
  },
  {
   "cell_type": "code",
   "execution_count": null,
   "id": "15",
   "metadata": {},
   "outputs": [],
   "source": [
    "# See how long it will take to filter some alerts based on their RA and DEC\n",
    "# TODO: This should probably be done multiple times because there is some\n",
    "# variance in the time it takes\n",
    "import time\n",
    "\n",
    "t0 = time.time()\n",
    "\n",
    "sql = \"\"\"\n",
    "    SELECT *\n",
    "    FROM alert\n",
    "    WHERE q3c_radial_query(ra, dec, 180.0, 0.0, 1.0)\n",
    "    LIMIT 20;\n",
    "\"\"\"\n",
    "\n",
    "with conn.cursor() as cursor:\n",
    "    res = cursor.execute(sql)\n",
    "    res = cursor.fetchall()\n",
    "t1 = time.time()\n",
    "results[\"cone_search_query_time_s\"] = t1 - t0\n",
    "print(\n",
    "    f\"Found {len(res)} rows matching the query in \"\n",
    "    f\"{results['cone_search_query_time_s']} seconds.\"\n",
    ")\n",
    "res[0][:4]"
   ]
  },
  {
   "cell_type": "code",
   "execution_count": null,
   "id": "16",
   "metadata": {},
   "outputs": [],
   "source": [
    "# Write results out to file\n",
    "import json\n",
    "import os\n",
    "\n",
    "os.makedirs(\"results\", exist_ok=True)\n",
    "\n",
    "with open(\"results/postgres.json\", \"w\") as f:\n",
    "    json.dump(results, f, indent=4)"
   ]
  },
  {
   "cell_type": "code",
   "execution_count": null,
   "id": "17",
   "metadata": {},
   "outputs": [],
   "source": [
    "! docker compose -f docker-compose.postgres.yaml down"
   ]
  }
 ],
 "metadata": {
  "kernelspec": {
   "display_name": ".venv",
   "language": "python",
   "name": "python3"
  },
  "language_info": {
   "codemirror_mode": {
    "name": "ipython",
    "version": 3
   },
   "file_extension": ".py",
   "mimetype": "text/x-python",
   "name": "python",
   "nbconvert_exporter": "python",
   "pygments_lexer": "ipython3",
   "version": "3.12.4"
  }
 },
 "nbformat": 4,
 "nbformat_minor": 5
}
