{
 "cells": [
  {
   "cell_type": "code",
   "execution_count": null,
   "id": "0",
   "metadata": {},
   "outputs": [],
   "source": [
    "# Run from the root of the repo\n",
    "%cd .."
   ]
  },
  {
   "cell_type": "code",
   "execution_count": null,
   "id": "1",
   "metadata": {},
   "outputs": [],
   "source": [
    "import duckdb\n",
    "\n",
    "# Connect to a DuckDB database (in-memory for this example, or specify a file path)\n",
    "con = duckdb.connect(database=\":memory:\", read_only=False)\n",
    "\n",
    "# Install the Avro extension\n",
    "con.execute(\"INSTALL avro;\")\n",
    "con.execute(\"LOAD avro;\")\n",
    "\n",
    "# Install the Spatial extension\n",
    "con.execute(\"INSTALL spatial;\")\n",
    "con.execute(\"LOAD spatial;\")\n",
    "\n",
    "# Install the JSON extension\n",
    "con.execute(\"INSTALL json; LOAD json;\")"
   ]
  },
  {
   "cell_type": "code",
   "execution_count": null,
   "id": "2",
   "metadata": {},
   "outputs": [],
   "source": [
    "# Run a select statement on the Avro files, taking the object_id, ra, and\n",
    "# dec columns, and filtering for a specific object_id\n",
    "# ra and dec are inside a candidate object, so we need to extract them\n",
    "\n",
    "con.execute(\n",
    "    \"\"\"\n",
    "        CREATE OR REPLACE TABLE alert AS\n",
    "        SELECT\n",
    "            objectId AS object_id,\n",
    "            candidate.ra AS ra,\n",
    "            candidate.dec AS dec\n",
    "        FROM read_avro('data/ztf_public_20250614/*.avro');\n",
    "    \"\"\"\n",
    ")"
   ]
  },
  {
   "cell_type": "code",
   "execution_count": null,
   "id": "3",
   "metadata": {},
   "outputs": [],
   "source": [
    "con.execute(\n",
    "    \"\"\"\n",
    "        select count(*) from alert\n",
    "    \"\"\"\n",
    ").fetchall()"
   ]
  },
  {
   "cell_type": "code",
   "execution_count": null,
   "id": "4",
   "metadata": {},
   "outputs": [],
   "source": [
    "con.execute(\"select distinct object_id from alert\").fetchall()"
   ]
  },
  {
   "cell_type": "code",
   "execution_count": null,
   "id": "5",
   "metadata": {},
   "outputs": [],
   "source": [
    "from math import pi\n",
    "import time\n",
    "\n",
    "# Postgres query for reference\n",
    "sql = \"\"\"\n",
    "    SELECT *\n",
    "    FROM alert\n",
    "    WHERE q3c_radial_query(ra, dec, 180.0, 0.0, 1.0)\n",
    "    LIMIT 20;\n",
    "\"\"\"\n",
    "\n",
    "# Define cone search parameters\n",
    "search_ra = 180.0  # Example: Right Ascension of cone center in degrees\n",
    "search_dec = 0.0   # Example: Declination of cone center in degrees\n",
    "cone_radius_arcsec = 3600 # Example: 300 arcseconds (5 arcminutes)\n",
    "cone_radius_deg = cone_radius_arcsec / 3600.0 # Convert arcseconds to degrees\n",
    "\n",
    "# SQL query to perform the cone search using spherical law of cosines\n",
    "# (Often good enough for small radii, more complex for robustness or larger radii)\n",
    "# For very small radii, you might use a simplified planar approximation or more robust spherical formulas.\n",
    "# Let's use the spherical law of cosines for a common approach.\n",
    "\n",
    "# Convert degrees to radians for trigonometric functions\n",
    "search_ra_rad = search_ra * pi / 180.0\n",
    "search_dec_rad = search_dec * pi / 180.0\n",
    "\n",
    "query = f\"\"\"\n",
    "    SELECT\n",
    "        *,\n",
    "        ACOS(\n",
    "            SIN(RADIANS(dec)) * SIN({search_dec_rad}) +\n",
    "            COS(RADIANS(dec)) * COS({search_dec_rad}) *\n",
    "            COS(ABS(RADIANS(ra) - {search_ra_rad}))\n",
    "        ) * 180.0 / PI() AS angular_distance_deg\n",
    "    FROM\n",
    "        alert\n",
    "    WHERE\n",
    "        angular_distance_deg <= {cone_radius_deg};\n",
    "\"\"\"\n",
    "\n",
    "# Execute the query\n",
    "t0 = time.time()\n",
    "result = con.execute(query).fetchall()\n",
    "print(\"Time (s)\", time.time() - t0)\n",
    "\n",
    "print(f\"Found {len(result)} objects within the cone.\")\n",
    "print(result)"
   ]
  }
 ],
 "metadata": {
  "kernelspec": {
   "display_name": ".venv-duckdb",
   "language": "python",
   "name": "python3"
  },
  "language_info": {
   "codemirror_mode": {
    "name": "ipython",
    "version": 3
   },
   "file_extension": ".py",
   "mimetype": "text/x-python",
   "name": "python",
   "nbconvert_exporter": "python",
   "pygments_lexer": "ipython3",
   "version": "3.12.4"
  }
 },
 "nbformat": 4,
 "nbformat_minor": 5
}
