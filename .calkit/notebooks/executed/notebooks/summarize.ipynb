{
 "cells": [
  {
   "cell_type": "markdown",
   "id": "0",
   "metadata": {},
   "source": [
    "# Results summary\n",
    "\n",
    "Note: Some important analyses are still left to do!"
   ]
  },
  {
   "cell_type": "code",
   "execution_count": null,
   "id": "1",
   "metadata": {},
   "outputs": [],
   "source": [
    "# Run from the top for simplicity\n",
    "%cd .."
   ]
  },
  {
   "cell_type": "markdown",
   "id": "2",
   "metadata": {},
   "source": [
    "## Insert speed"
   ]
  },
  {
   "cell_type": "code",
   "execution_count": null,
   "id": "3",
   "metadata": {},
   "outputs": [],
   "source": [
    "import json\n",
    "\n",
    "import polars as pl\n",
    "\n",
    "with open(\"results/postgres.json\", \"r\") as f:\n",
    "    pg_results = json.load(f)\n",
    "\n",
    "with open(\"results/mongo.json\", \"r\") as f:\n",
    "    mongo_results = json.load(f)\n",
    "\n",
    "df = pl.DataFrame(\n",
    "    {\n",
    "        \"n_alerts_inserted\": pg_results[\"n_ztf_alerts_inserted\"],\n",
    "        \"mongo_insert_time_s\": mongo_results[\"ztf_alerts_insert_time_s\"],\n",
    "        \"postgres_insert_time_s\": pg_results[\"ztf_alerts_insert_time_s\"],\n",
    "    }\n",
    ")\n",
    "df"
   ]
  }
 ],
 "metadata": {
  "kernelspec": {
   "display_name": ".venv-analyze",
   "language": "python",
   "name": "python3"
  },
  "language_info": {
   "codemirror_mode": {
    "name": "ipython",
    "version": 3
   },
   "file_extension": ".py",
   "mimetype": "text/x-python",
   "name": "python",
   "nbconvert_exporter": "python",
   "pygments_lexer": "ipython3",
   "version": "3.12.4"
  }
 },
 "nbformat": 4,
 "nbformat_minor": 5
}
